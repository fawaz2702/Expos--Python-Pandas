{
 "cells": [
  {
   "cell_type": "markdown",
   "metadata": {},
   "source": [
    "# <center> <b> <span style=\"color:blue;\">Introduction à Pandas </span> </b></center>"
   ]
  },
  {
   "cell_type": "markdown",
   "metadata": {},
   "source": [
    "### 0.0.  Qu'est-ce que pandas  ?\n",
    "\n",
    "Pandas est une bibliothèque Python utilisée pour travailler avec des ensembles de données.\n",
    "\n",
    "Il a des fonctions d'analyse, de nettoyage, d'exploration et de manipulation des données.\n",
    "\n",
    "Le nom \"Pandas\" fait référence à la fois à \"Panel Data\" et à \"Python Data Analysis\" et a été créé par Wes McKinney en 2008.\n",
    "\n",
    "\n",
    "\n",
    "\n",
    "\n",
    "### 0.1. Pourquoi utiliser des pandas ?\n",
    "\n",
    "Pandas nous permet d'analyser de grandes données et de tirer des conclusions basées sur des théories statistiques.\n",
    "\n",
    "Les pandas peuvent nettoyer des ensembles de données désordonnés et les rendre lisibles et pertinents.\n",
    "\n",
    "Les données pertinentes sont très importantes en science des données.\n",
    "\n",
    " <left> <b> <span style=\"color:brown;\"> Science des données</span> </b></left> : est une branche de l'informatique où nous étudions comment stocker, utiliser et analyser des données pour en tirer des informations.\n",
    "\n",
    "\n",
    "### 0.2. Que peuvent faire les pandas ?\n",
    "\n",
    "-  Existe-t-il une corrélation entre deux colonnes ou plus ?, \n",
    "- Quelle est la valeur moyenne ?, \n",
    "- Valeur max?, \n",
    "- Valeur minimale ?, \n",
    "\n",
    "Les pandas sont également capables de supprimer des lignes qui ne sont pas pertinentes ou qui contiennent des valeurs erronées, comme des valeurs vides ou NULL. C'est ce qu'on appelle le nettoyage des données.\n",
    "\n",
    "\n",
    "### 0.3.   Où est la base de code Pandas ?\n",
    "\n",
    "JLe code source de Pandas se trouve dans ce référentiel github https://github.com/pandas-dev/pandas\n"
   ]
  },
  {
   "cell_type": "code",
   "execution_count": null,
   "metadata": {},
   "outputs": [],
   "source": []
  }
 ],
 "metadata": {
  "kernelspec": {
   "display_name": "Python 3",
   "language": "python",
   "name": "python3"
  },
  "language_info": {
   "codemirror_mode": {
    "name": "ipython",
    "version": 3
   },
   "file_extension": ".py",
   "mimetype": "text/x-python",
   "name": "python",
   "nbconvert_exporter": "python",
   "pygments_lexer": "ipython3",
   "version": "3.8.5"
  }
 },
 "nbformat": 4,
 "nbformat_minor": 4
}
