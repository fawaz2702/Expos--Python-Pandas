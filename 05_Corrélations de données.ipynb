{
 "cells": [
  {
   "cell_type": "markdown",
   "metadata": {},
   "source": [
    "### 5.1. Trouver des relations\n",
    "Un grand aspect du module Pandas est la corr()méthode.\n",
    "\n",
    "La corr()méthode calcule la relation entre chaque colonne de votre ensemble de données.\n",
    "\n",
    "Les exemples de cette page utilisent un fichier CSV appelé : 'data.csv'.\n",
    "\n",
    "Téléchargez data.csv . ou Ouvrir data.csv\n",
    "\n",
    "Exemple\n",
    "Montrez la relation entre les colonnes :\n",
    "\n"
   ]
  },
  {
   "cell_type": "code",
   "execution_count": 1,
   "metadata": {},
   "outputs": [
    {
     "name": "stdout",
     "output_type": "stream",
     "text": [
      "          Duration     Pulse  Maxpulse  Calories\n",
      "Duration  1.000000 -0.155408  0.009403  0.922717\n",
      "Pulse    -0.155408  1.000000  0.786535  0.025121\n",
      "Maxpulse  0.009403  0.786535  1.000000  0.203813\n",
      "Calories  0.922717  0.025121  0.203813  1.000000\n"
     ]
    }
   ],
   "source": [
    "import pandas as pd\n",
    "\n",
    "df = pd.read_csv('data.csv')\n",
    "df.corr()\n",
    "print(df.corr())"
   ]
  },
  {
   "cell_type": "markdown",
   "metadata": {},
   "source": [
    "Remarque : La corr()méthode ignore les colonnes « non numériques »."
   ]
  },
  {
   "cell_type": "markdown",
   "metadata": {},
   "source": [
    "### 5.2. Résultat expliqué\n",
    "Le résultat de la corr()méthode est un tableau avec beaucoup de nombres qui représente la qualité de la relation entre deux colonnes.\n",
    "\n",
    "Le nombre varie de -1 à 1.\n",
    "\n",
    "1 signifie qu'il existe une relation 1 à 1 (corrélation parfaite), et pour cet ensemble de données, chaque fois qu'une valeur montait dans la première colonne, l'autre montait également.\n",
    "\n",
    "0.9 est également une bonne relation, et si vous augmentez une valeur, l'autre augmentera probablement aussi.\n",
    "\n",
    "-0.9 serait une relation aussi bonne que 0.9, mais si vous augmentez une valeur, l'autre diminuera probablement.\n",
    "\n",
    "0,2 signifie PAS une bonne relation, ce qui signifie que si une valeur augmente, cela ne signifie pas que l'autre augmentera.\n",
    "\n",
    "Qu'est-ce qu'une bonne corrélation ? Cela dépend de l'utilisation, mais je pense qu'il est prudent de dire que vous devez avoir au moins 0.6(ou -0.6) pour appeler cela une bonne corrélation.\n",
    "\n",
    "### 5.3. Corrélation parfaite :\n",
    "Nous pouvons voir que \"Duration\" et \"Duration\" ont obtenu le nombre 1.000000, ce qui est logique, chaque colonne a toujours une relation parfaite avec elle-même.\n",
    "\n",
    "### 5.4. Bonne corrélation :\n",
    "« Durée » et « Calories » ont une 0.922721corrélation, qui est une très bonne corrélation, et nous pouvons prédire que plus vous vous entraînez longtemps, plus vous brûlez de calories, et inversement : si vous brûlez beaucoup de calories, vous probablement eu un long entraînement.\n",
    "\n",
    "### 5.5. Mauvaise corrélation :\n",
    "\"Duration\" et \"Maxpulse\" ont une 0.009403corrélation, ce qui est une très mauvaise corrélation, ce qui signifie que nous ne pouvons pas prédire le pouls max en regardant simplement la durée de l'entraînement, et vice versa.\n",
    "\n"
   ]
  },
  {
   "cell_type": "code",
   "execution_count": null,
   "metadata": {},
   "outputs": [],
   "source": []
  }
 ],
 "metadata": {
  "kernelspec": {
   "display_name": "Python 3",
   "language": "python",
   "name": "python3"
  },
  "language_info": {
   "codemirror_mode": {
    "name": "ipython",
    "version": 3
   },
   "file_extension": ".py",
   "mimetype": "text/x-python",
   "name": "python",
   "nbconvert_exporter": "python",
   "pygments_lexer": "ipython3",
   "version": "3.8.5"
  }
 },
 "nbformat": 4,
 "nbformat_minor": 4
}
